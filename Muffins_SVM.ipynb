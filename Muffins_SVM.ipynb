{
 "cells": [
  {
   "cell_type": "code",
   "execution_count": 1,
   "metadata": {},
   "outputs": [],
   "source": [
    "#packages for data analysis\n",
    "\n",
    "import numpy as np\n",
    "import pandas as pd\n",
    "from sklearn import svm\n",
    "\n",
    "import matplotlib.pyplot as plt\n",
    "import seaborn as se; se.set(font_scale = 1.2)\n",
    "\n",
    "%matplotlib inline \n"
   ]
  },
  {
   "cell_type": "code",
   "execution_count": 5,
   "metadata": {},
   "outputs": [],
   "source": [
    "df = pd.read_csv(\"Muffins_Cupcakes.csv\")"
   ]
  },
  {
   "cell_type": "code",
   "execution_count": 6,
   "metadata": {},
   "outputs": [
    {
     "data": {
      "text/html": [
       "<div>\n",
       "<style scoped>\n",
       "    .dataframe tbody tr th:only-of-type {\n",
       "        vertical-align: middle;\n",
       "    }\n",
       "\n",
       "    .dataframe tbody tr th {\n",
       "        vertical-align: top;\n",
       "    }\n",
       "\n",
       "    .dataframe thead th {\n",
       "        text-align: right;\n",
       "    }\n",
       "</style>\n",
       "<table border=\"1\" class=\"dataframe\">\n",
       "  <thead>\n",
       "    <tr style=\"text-align: right;\">\n",
       "      <th></th>\n",
       "      <th>Type</th>\n",
       "      <th>Flour</th>\n",
       "      <th>Milk</th>\n",
       "      <th>Sugar</th>\n",
       "      <th>Butter</th>\n",
       "      <th>Egg</th>\n",
       "      <th>Baking Powder</th>\n",
       "      <th>Vanilla</th>\n",
       "      <th>Salt</th>\n",
       "    </tr>\n",
       "  </thead>\n",
       "  <tbody>\n",
       "    <tr>\n",
       "      <th>0</th>\n",
       "      <td>Muffin</td>\n",
       "      <td>55</td>\n",
       "      <td>28</td>\n",
       "      <td>3</td>\n",
       "      <td>7</td>\n",
       "      <td>5</td>\n",
       "      <td>2</td>\n",
       "      <td>0</td>\n",
       "      <td>0</td>\n",
       "    </tr>\n",
       "    <tr>\n",
       "      <th>1</th>\n",
       "      <td>Muffin</td>\n",
       "      <td>47</td>\n",
       "      <td>24</td>\n",
       "      <td>12</td>\n",
       "      <td>6</td>\n",
       "      <td>9</td>\n",
       "      <td>1</td>\n",
       "      <td>0</td>\n",
       "      <td>0</td>\n",
       "    </tr>\n",
       "    <tr>\n",
       "      <th>2</th>\n",
       "      <td>Muffin</td>\n",
       "      <td>47</td>\n",
       "      <td>23</td>\n",
       "      <td>18</td>\n",
       "      <td>6</td>\n",
       "      <td>4</td>\n",
       "      <td>1</td>\n",
       "      <td>0</td>\n",
       "      <td>0</td>\n",
       "    </tr>\n",
       "    <tr>\n",
       "      <th>3</th>\n",
       "      <td>Muffin</td>\n",
       "      <td>45</td>\n",
       "      <td>11</td>\n",
       "      <td>17</td>\n",
       "      <td>17</td>\n",
       "      <td>8</td>\n",
       "      <td>1</td>\n",
       "      <td>0</td>\n",
       "      <td>0</td>\n",
       "    </tr>\n",
       "    <tr>\n",
       "      <th>4</th>\n",
       "      <td>Muffin</td>\n",
       "      <td>50</td>\n",
       "      <td>25</td>\n",
       "      <td>12</td>\n",
       "      <td>6</td>\n",
       "      <td>5</td>\n",
       "      <td>2</td>\n",
       "      <td>1</td>\n",
       "      <td>0</td>\n",
       "    </tr>\n",
       "  </tbody>\n",
       "</table>\n",
       "</div>"
      ],
      "text/plain": [
       "     Type  Flour  Milk  Sugar  Butter  Egg  Baking Powder  Vanilla  Salt\n",
       "0  Muffin     55    28      3       7    5              2        0     0\n",
       "1  Muffin     47    24     12       6    9              1        0     0\n",
       "2  Muffin     47    23     18       6    4              1        0     0\n",
       "3  Muffin     45    11     17      17    8              1        0     0\n",
       "4  Muffin     50    25     12       6    5              2        1     0"
      ]
     },
     "execution_count": 6,
     "metadata": {},
     "output_type": "execute_result"
    }
   ],
   "source": [
    "df.head()"
   ]
  },
  {
   "cell_type": "code",
   "execution_count": 7,
   "metadata": {},
   "outputs": [
    {
     "data": {
      "text/html": [
       "<div>\n",
       "<style scoped>\n",
       "    .dataframe tbody tr th:only-of-type {\n",
       "        vertical-align: middle;\n",
       "    }\n",
       "\n",
       "    .dataframe tbody tr th {\n",
       "        vertical-align: top;\n",
       "    }\n",
       "\n",
       "    .dataframe thead th {\n",
       "        text-align: right;\n",
       "    }\n",
       "</style>\n",
       "<table border=\"1\" class=\"dataframe\">\n",
       "  <thead>\n",
       "    <tr style=\"text-align: right;\">\n",
       "      <th></th>\n",
       "      <th>Type</th>\n",
       "      <th>Flour</th>\n",
       "      <th>Milk</th>\n",
       "      <th>Sugar</th>\n",
       "      <th>Butter</th>\n",
       "      <th>Egg</th>\n",
       "      <th>Baking Powder</th>\n",
       "      <th>Vanilla</th>\n",
       "      <th>Salt</th>\n",
       "    </tr>\n",
       "  </thead>\n",
       "  <tbody>\n",
       "    <tr>\n",
       "      <th>15</th>\n",
       "      <td>Cupcake</td>\n",
       "      <td>42</td>\n",
       "      <td>18</td>\n",
       "      <td>25</td>\n",
       "      <td>9</td>\n",
       "      <td>5</td>\n",
       "      <td>1</td>\n",
       "      <td>0</td>\n",
       "      <td>0</td>\n",
       "    </tr>\n",
       "    <tr>\n",
       "      <th>16</th>\n",
       "      <td>Cupcake</td>\n",
       "      <td>36</td>\n",
       "      <td>14</td>\n",
       "      <td>21</td>\n",
       "      <td>14</td>\n",
       "      <td>11</td>\n",
       "      <td>2</td>\n",
       "      <td>1</td>\n",
       "      <td>0</td>\n",
       "    </tr>\n",
       "    <tr>\n",
       "      <th>17</th>\n",
       "      <td>Cupcake</td>\n",
       "      <td>38</td>\n",
       "      <td>15</td>\n",
       "      <td>31</td>\n",
       "      <td>8</td>\n",
       "      <td>6</td>\n",
       "      <td>1</td>\n",
       "      <td>1</td>\n",
       "      <td>0</td>\n",
       "    </tr>\n",
       "    <tr>\n",
       "      <th>18</th>\n",
       "      <td>Cupcake</td>\n",
       "      <td>36</td>\n",
       "      <td>16</td>\n",
       "      <td>24</td>\n",
       "      <td>12</td>\n",
       "      <td>9</td>\n",
       "      <td>1</td>\n",
       "      <td>1</td>\n",
       "      <td>0</td>\n",
       "    </tr>\n",
       "    <tr>\n",
       "      <th>19</th>\n",
       "      <td>Cupcake</td>\n",
       "      <td>34</td>\n",
       "      <td>17</td>\n",
       "      <td>23</td>\n",
       "      <td>11</td>\n",
       "      <td>13</td>\n",
       "      <td>0</td>\n",
       "      <td>1</td>\n",
       "      <td>0</td>\n",
       "    </tr>\n",
       "  </tbody>\n",
       "</table>\n",
       "</div>"
      ],
      "text/plain": [
       "       Type  Flour  Milk  Sugar  Butter  Egg  Baking Powder  Vanilla  Salt\n",
       "15  Cupcake     42    18     25       9    5              1        0     0\n",
       "16  Cupcake     36    14     21      14   11              2        1     0\n",
       "17  Cupcake     38    15     31       8    6              1        1     0\n",
       "18  Cupcake     36    16     24      12    9              1        1     0\n",
       "19  Cupcake     34    17     23      11   13              0        1     0"
      ]
     },
     "execution_count": 7,
     "metadata": {},
     "output_type": "execute_result"
    }
   ],
   "source": [
    "df.tail()"
   ]
  },
  {
   "cell_type": "code",
   "execution_count": 9,
   "metadata": {},
   "outputs": [
    {
     "data": {
      "text/plain": [
       "<seaborn.axisgrid.FacetGrid at 0x21d150fc908>"
      ]
     },
     "execution_count": 9,
     "metadata": {},
     "output_type": "execute_result"
    },
    {
     "data": {
      "image/png": "[encoded data removed]",
      "text/plain": [
       "<Figure size 450.575x360 with 1 Axes>"
      ]
     },
     "metadata": {},
     "output_type": "display_data"
    }
   ],
   "source": [
    "#plot the data\n",
    "\n",
    "se.lmplot(data = df, x = \"Flour\", y = \"Sugar\", hue = 'Type', palette = 'Set1', fit_reg = False, scatter_kws = {\"s\" : 70})"
   ]
  },
  {
   "cell_type": "code",
   "execution_count": 10,
   "metadata": {},
   "outputs": [
    {
     "name": "stdout",
     "output_type": "stream",
     "text": [
      "Available features are: ['Flour', 'Milk', 'Sugar', 'Butter', 'Egg', 'Baking Powder', 'Vanilla', 'Salt']\n"
     ]
    }
   ],
   "source": [
    "#format or preprocess the data\n",
    "\n",
    "type_label = np.where(df['Type']=='Muffin',0,1) \n",
    "\n",
    "#Creating a numpy array by givin the condition to the \"Type\" if its MUFFIN then the label is [0] else(i.e Cupcake) it'll be [1] \n",
    "#This basically we are working on our training data, this is what we are gonna train it with i.e. 0 or 1, whether its a MUFFIN\n",
    "#or its NOT (i.e. its a CUPCAKE)\n",
    "\n",
    "df_features = df.columns.values[1:].tolist() \n",
    "#Now here we want all the features apart from dependent variable which is our 'Type' column, so we will ignore that and print\n",
    "#our remaining features from [1:], after \":\", blank means till the end and then create a list of the same.  \n",
    "\n",
    "print(\"Available features are:\", df_features)"
   ]
  },
  {
   "cell_type": "code",
   "execution_count": 11,
   "metadata": {},
   "outputs": [
    {
     "name": "stdout",
     "output_type": "stream",
     "text": [
      "Ingredients are: \n",
      " [[55  3]\n",
      " [47 12]\n",
      " [47 18]\n",
      " [45 17]\n",
      " [50 12]\n",
      " [55  3]\n",
      " [54  7]\n",
      " [47 10]\n",
      " [50 17]\n",
      " [50 17]\n",
      " [39 26]\n",
      " [42 16]\n",
      " [34 20]\n",
      " [39 17]\n",
      " [38 23]\n",
      " [42 25]\n",
      " [36 21]\n",
      " [38 31]\n",
      " [36 24]\n",
      " [34 23]]\n"
     ]
    }
   ],
   "source": [
    "# Now lets say we want the actual values of the ingredients  (here we are considering 2 ingredients which are Flour and Sugar)\n",
    "ingreds = df[['Flour','Sugar']].values\n",
    "print(\"Ingredients are: \\n\", ingreds)\n",
    "\n",
    "#It gives us the amount of Flour and Sugar from our dataframe-"
   ]
  },
  {
   "cell_type": "code",
   "execution_count": 12,
   "metadata": {
    "scrolled": true
   },
   "outputs": [
    {
     "name": "stdout",
     "output_type": "stream",
     "text": [
      "All listed Ingredients are: \n",
      " [[55 28  3  7  5  2  0  0]\n",
      " [47 24 12  6  9  1  0  0]\n",
      " [47 23 18  6  4  1  0  0]\n",
      " [45 11 17 17  8  1  0  0]\n",
      " [50 25 12  6  5  2  1  0]\n",
      " [55 27  3  7  5  2  1  0]\n",
      " [54 27  7  5  5  2  0  0]\n",
      " [47 26 10 10  4  1  0  0]\n",
      " [50 17 17  8  6  1  0  0]\n",
      " [50 17 17 11  4  1  0  0]\n",
      " [39  0 26 19 14  1  1  0]\n",
      " [42 21 16 10  8  3  0  0]\n",
      " [34 17 20 20  5  2  1  0]\n",
      " [39 13 17 19 10  1  1  0]\n",
      " [38 15 23 15  8  0  1  0]\n",
      " [42 18 25  9  5  1  0  0]\n",
      " [36 14 21 14 11  2  1  0]\n",
      " [38 15 31  8  6  1  1  0]\n",
      " [36 16 24 12  9  1  1  0]\n",
      " [34 17 23 11 13  0  1  0]]\n"
     ]
    }
   ],
   "source": [
    "#We can also get the values of all the Ingredients\n",
    "\n",
    "ing_all = df[df_features].values\n",
    "print(\"All listed Ingredients are: \\n\", ing_all)\n",
    "\n",
    "#If we take all the independent variables then we have to build 8 different hyperplanes for each individual features. "
   ]
  },
  {
   "cell_type": "code",
   "execution_count": 13,
   "metadata": {},
   "outputs": [
    {
     "name": "stdout",
     "output_type": "stream",
     "text": [
      "Ingredients are: \n",
      " [[55  3]\n",
      " [47 12]\n",
      " [47 18]\n",
      " [45 17]\n",
      " [50 12]\n",
      " [55  3]\n",
      " [54  7]\n",
      " [47 10]\n",
      " [50 17]\n",
      " [50 17]\n",
      " [39 26]\n",
      " [42 16]\n",
      " [34 20]\n",
      " [39 17]\n",
      " [38 23]\n",
      " [42 25]\n",
      " [36 21]\n",
      " [38 31]\n",
      " [36 24]\n",
      " [34 23]]\n"
     ]
    }
   ],
   "source": [
    "#But again here we are mainly focusing or considering the values of Flour and Sugar only (2 dimensions) !\n",
    "\n",
    "ingreds = df[['Flour','Sugar']].values\n",
    "print(\"Ingredients are: \\n\", ingreds)\n",
    "\n",
    "\n",
    "#Because we are focusing on Supervised LINEAR CLASSIFICATION for SVM."
   ]
  },
  {
   "cell_type": "code",
   "execution_count": 14,
   "metadata": {},
   "outputs": [
    {
     "data": {
      "text/plain": [
       "SVC(C=1.0, cache_size=200, class_weight=None, coef0=0.0,\n",
       "  decision_function_shape='ovr', degree=3, gamma='auto', kernel='linear',\n",
       "  max_iter=-1, probability=False, random_state=None, shrinking=True,\n",
       "  tol=0.001, verbose=False)"
      ]
     },
     "execution_count": 14,
     "metadata": {},
     "output_type": "execute_result"
    }
   ],
   "source": [
    "#Fit the model [Support Vector Machine]\n",
    "\n",
    "model = svm.SVC(kernel = 'linear')\n",
    "model.fit(ingreds,type_label)      #fitting with \"Flour,Sugar\" and type_label i.e. \"Muffin or Cupcake\"\n"
   ]
  },
  {
   "cell_type": "code",
   "execution_count": 15,
   "metadata": {},
   "outputs": [],
   "source": [
    "#get the separating hyperplane\n",
    "\n",
    "w = model.coef_[0]\n",
    "a = -w[0] / w[1]\n",
    "xx = np.linspace(30,60)\n",
    "yy = a * xx - (model.intercept_[0]) / w[1]\n",
    "\n",
    "#plot the paralles to the separating hyperplane that pass through the support vectors\n",
    "\n",
    "b = model.support_vectors_[0]\n",
    "yy_down = a * xx + (b[1] - a * b[0])\n",
    "b = model.support_vectors_[-1]\n",
    "yy_up = a * xx + (b[1] - a * b[0])\n"
   ]
  },
  {
   "cell_type": "code",
   "execution_count": 16,
   "metadata": {},
   "outputs": [
    {
     "data": {
      "text/plain": [
       "[<matplotlib.lines.Line2D at 0x21d162b4518>]"
      ]
     },
     "execution_count": 16,
     "metadata": {},
     "output_type": "execute_result"
    },
    {
     "data": {
      "image/png": "[encoded data removed]",
      "text/plain": [
       "<Figure size 450.575x360 with 1 Axes>"
      ]
     },
     "metadata": {},
     "output_type": "display_data"
    }
   ],
   "source": [
    "se.lmplot('Flour', 'Sugar', data = df, hue = 'Type', palette = 'Set1', fit_reg = False, scatter_kws = {\"s\" : 70})\n",
    "\n",
    "plt.plot(xx, yy, linewidth = 2, color = 'black')\n",
    "\n",
    "plt.plot(xx, yy_down, 'k--')\n",
    "plt.plot(xx, yy_up, 'k--')"
   ]
  },
  {
   "cell_type": "code",
   "execution_count": 17,
   "metadata": {},
   "outputs": [],
   "source": [
    "#Create a function to create a Muffin or Cupcake:\n",
    "\n",
    "def muffin_or_cupcake(flour,sugar):\n",
    "    if(model.predict([[flour,sugar]]))==0:\n",
    "        print(\"You are looking at a Muffin Recipe!\")\n",
    "    else:\n",
    "        print(\"You are looking at a Cupcake Recipe!\")"
   ]
  },
  {
   "cell_type": "code",
   "execution_count": 18,
   "metadata": {},
   "outputs": [
    {
     "name": "stdout",
     "output_type": "stream",
     "text": [
      "You are looking at a Muffin Recipe!\n"
     ]
    }
   ],
   "source": [
    "muffin_or_cupcake(50,20)"
   ]
  },
  {
   "cell_type": "code",
   "execution_count": 19,
   "metadata": {},
   "outputs": [
    {
     "name": "stdout",
     "output_type": "stream",
     "text": [
      "You are looking at a Cupcake Recipe!\n"
     ]
    }
   ],
   "source": [
    "muffin_or_cupcake(43.5,56)"
   ]
  },
  {
   "cell_type": "code",
   "execution_count": 20,
   "metadata": {},
   "outputs": [
    {
     "name": "stdout",
     "output_type": "stream",
     "text": [
      "Next set of ingredients are:\n",
      " [[55 28]\n",
      " [47 24]\n",
      " [47 23]\n",
      " [45 11]\n",
      " [50 25]\n",
      " [55 27]\n",
      " [54 27]\n",
      " [47 26]\n",
      " [50 17]\n",
      " [50 17]\n",
      " [39  0]\n",
      " [42 21]\n",
      " [34 17]\n",
      " [39 13]\n",
      " [38 15]\n",
      " [42 18]\n",
      " [36 14]\n",
      " [38 15]\n",
      " [36 16]\n",
      " [34 17]]\n"
     ]
    }
   ],
   "source": [
    "#Repeat the same process from 11th tab for \"Flour\" and \"Milk\"\n",
    "\n",
    "ingred2 = df[['Flour','Milk']].values\n",
    "print(\"Next set of ingredients are:\\n\", ingred2)"
   ]
  },
  {
   "cell_type": "code",
   "execution_count": 21,
   "metadata": {},
   "outputs": [
    {
     "data": {
      "text/plain": [
       "SVC(C=1.0, cache_size=200, class_weight=None, coef0=0.0,\n",
       "  decision_function_shape='ovr', degree=3, gamma='auto', kernel='linear',\n",
       "  max_iter=-1, probability=False, random_state=None, shrinking=True,\n",
       "  tol=0.001, verbose=False)"
      ]
     },
     "execution_count": 21,
     "metadata": {},
     "output_type": "execute_result"
    }
   ],
   "source": [
    "#Fit the model (SVM)\n",
    "\n",
    "model = svm.SVC(kernel='linear')\n",
    "model.fit(ingred2,type_label)"
   ]
  },
  {
   "cell_type": "code",
   "execution_count": 22,
   "metadata": {},
   "outputs": [
    {
     "name": "stdout",
     "output_type": "stream",
     "text": [
      "[-86.75229963 -82.16046289 -77.56862616 -72.97678942 -68.38495269\n",
      " -63.79311595 -59.20127922 -54.60944248 -50.01760575 -45.42576901\n",
      " -40.83393228 -36.24209554 -31.65025881 -27.05842208 -22.46658534\n",
      " -17.87474861 -13.28291187  -8.69107514  -4.0992384    0.49259833\n",
      "   5.08443507   9.6762718   14.26810854  18.85994527  23.45178201\n",
      "  28.04361874  32.63545548  37.22729221  41.81912894  46.41096568\n",
      "  51.00280241  55.59463915  60.18647588  64.77831262  69.37014935\n",
      "  73.96198609  78.55382282  83.14565956  87.73749629  92.32933303\n",
      "  96.92116976 101.5130065  106.10484323 110.69667997 115.2885167\n",
      " 119.88035343 124.47219017 129.0640269  133.65586364 138.24770037]\n"
     ]
    }
   ],
   "source": [
    "#get the separating hyperplane\n",
    "\n",
    "w = model.coef_[0]\n",
    "a = -w[0] / w[1]\n",
    "xx = np.linspace(30,60)\n",
    "yy = a * xx - (model.intercept_[0]) / w[1]\n",
    "print(yy)\n",
    "#plot the paralles to the separating hyperplane that pass through the support vectors\n",
    "\n",
    "b = model.support_vectors_[0]\n",
    "yy_down = a * xx + (b[1] - a * b[0])\n",
    "b = model.support_vectors_[-1]\n",
    "yy_up = a * xx + (b[1] - a * b[0])\n"
   ]
  },
  {
   "cell_type": "code",
   "execution_count": 23,
   "metadata": {},
   "outputs": [
    {
     "data": {
      "text/plain": [
       "[<matplotlib.lines.Line2D at 0x21d165a32e8>]"
      ]
     },
     "execution_count": 23,
     "metadata": {},
     "output_type": "execute_result"
    },
    {
     "data": {
      "image/png": "[encoded data removed]",
      "text/plain": [
       "<Figure size 450.575x360 with 1 Axes>"
      ]
     },
     "metadata": {},
     "output_type": "display_data"
    }
   ],
   "source": [
    "se.lmplot('Flour', 'Milk', data = df, hue = 'Type', palette = 'Set1', fit_reg = False, scatter_kws = {\"s\" : 70})\n",
    "\n",
    "plt.plot(xx, yy, linewidth = 2, color = 'black')\n",
    "\n",
    "plt.plot(xx, yy_down, 'k--')\n",
    "plt.plot(xx, yy_up, 'k--')"
   ]
  },
  {
   "cell_type": "code",
   "execution_count": 24,
   "metadata": {},
   "outputs": [],
   "source": [
    "#Create a function to create a Muffin or Cupcake:\n",
    "\n",
    "def muffin_or_cupcake(flour,milk):\n",
    "    if(model.predict([[flour,milk]]))==0:\n",
    "        print(\"You are looking at a Muffin Recipe!\")\n",
    "    else:\n",
    "        print(\"You are looking at a Cupcake Recipe!\")"
   ]
  },
  {
   "cell_type": "code",
   "execution_count": 25,
   "metadata": {},
   "outputs": [
    {
     "name": "stdout",
     "output_type": "stream",
     "text": [
      "You are looking at a Cupcake Recipe!\n"
     ]
    }
   ],
   "source": [
    "muffin_or_cupcake(40,20)"
   ]
  },
  {
   "cell_type": "code",
   "execution_count": 26,
   "metadata": {},
   "outputs": [
    {
     "data": {
      "text/plain": [
       "[<matplotlib.lines.Line2D at 0x21d165f35f8>]"
      ]
     },
     "execution_count": 26,
     "metadata": {},
     "output_type": "execute_result"
    },
    {
     "data": {
      "image/png": "[encoded data removed]",
      "text/plain": [
       "<Figure size 450.575x360 with 1 Axes>"
      ]
     },
     "metadata": {},
     "output_type": "display_data"
    }
   ],
   "source": [
    "#Lets plot this one:\n",
    "\n",
    "se.lmplot('Flour', 'Milk', data = df, hue = 'Type', palette = 'Set1', fit_reg = False, scatter_kws = {\"s\" : 70})\n",
    "\n",
    "plt.plot(xx, yy, linewidth = 2, color = 'black')\n",
    "plt.plot(40,20,'yo',markersize = '12')                 #yo is for yellow color"
   ]
  },
  {
   "cell_type": "code",
   "execution_count": 27,
   "metadata": {},
   "outputs": [
    {
     "name": "stdout",
     "output_type": "stream",
     "text": [
      "So here we have built a classifier using SVM which is able to classify if a recipe is of a Cupcake or a Muffin\n"
     ]
    }
   ],
   "source": [
    "print(\"\"\"So here we have built a classifier using SVM which is able to classify if a recipe is of a Cupcake or a Muffin\"\"\")"
   ]
  }
 ],
 "metadata": {
  "kernelspec": {
   "display_name": "Python 3",
   "language": "python",
   "name": "python3"
  },
  "language_info": {
   "codemirror_mode": {
    "name": "ipython",
    "version": 3
   },
   "file_extension": ".py",
   "mimetype": "text/x-python",
   "name": "python",
   "nbconvert_exporter": "python",
   "pygments_lexer": "ipython3",
   "version": "3.6.5"
  }
 },
 "nbformat": 4,
 "nbformat_minor": 2
}
